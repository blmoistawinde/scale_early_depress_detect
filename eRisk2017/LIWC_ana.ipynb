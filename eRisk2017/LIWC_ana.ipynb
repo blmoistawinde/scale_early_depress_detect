{
 "cells": [
  {
   "cell_type": "code",
   "execution_count": 2,
   "metadata": {},
   "outputs": [],
   "source": [
    "import os\n",
    "import re\n",
    "import json\n",
    "import liwc\n",
    "import numpy as np\n",
    "import pandas as pd\n",
    "import matplotlib.pyplot as plt\n",
    "from nltk import word_tokenize\n",
    "from collections import defaultdict, Counter"
   ]
  },
  {
   "cell_type": "code",
   "execution_count": 3,
   "metadata": {},
   "outputs": [],
   "source": [
    "LIWC_parse, category_names = liwc.load_token_parser('../LIWC2015_English.dic')"
   ]
  },
  {
   "cell_type": "code",
   "execution_count": 5,
   "metadata": {},
   "outputs": [
    {
     "data": {
      "text/plain": [
       "['verb (Verbs)',\n",
       " 'affect (Affect)',\n",
       " 'posemo (Positive Emotions)',\n",
       " 'cogproc (Cognitive Processes)',\n",
       " 'insight (Insight)']"
      ]
     },
     "execution_count": 5,
     "metadata": {},
     "output_type": "execute_result"
    }
   ],
   "source": [
    "list(LIWC_parse(\"accept\"))"
   ]
  },
  {
   "cell_type": "code",
   "execution_count": 6,
   "metadata": {},
   "outputs": [
    {
     "data": {
      "text/plain": [
       "(425, 423)"
      ]
     },
     "execution_count": 6,
     "metadata": {},
     "output_type": "execute_result"
    }
   ],
   "source": [
    "depress_sel_posts = open(\"./processed/combined_maxsim16/depress_sel_posts2.txt\").readlines()\n",
    "depress_non_sel_posts = open(\"./processed/combined_maxsim16/depress_non_sel_posts2.txt\").readlines()\n",
    "len(depress_sel_posts), len(depress_non_sel_posts)"
   ]
  },
  {
   "cell_type": "code",
   "execution_count": 8,
   "metadata": {},
   "outputs": [],
   "source": [
    "import pickle\n",
    "with open(\"processed/miniLM_L6_embs.pkl\", \"rb\") as f:\n",
    "    data = pickle.load(f)\n",
    "\n",
    "train_posts = data[\"train_posts\"]\n",
    "train_tags = data[\"train_labels\"]\n",
    "test_posts = data[\"test_posts\"]\n",
    "test_tags = data[\"test_labels\"]"
   ]
  },
  {
   "cell_type": "code",
   "execution_count": 18,
   "metadata": {},
   "outputs": [],
   "source": [
    "test_mappings = data[\"test_mappings\"]"
   ]
  },
  {
   "cell_type": "code",
   "execution_count": 19,
   "metadata": {},
   "outputs": [
    {
     "data": {
      "text/plain": [
       "(848, 18729)"
      ]
     },
     "execution_count": 19,
     "metadata": {},
     "output_type": "execute_result"
    }
   ],
   "source": [
    "depress_screen_posts = depress_sel_posts + depress_non_sel_posts\n",
    "depress_all_posts = []\n",
    "for mapping, tag in zip(test_mappings, test_tags):\n",
    "    if tag == 1:\n",
    "        for i in mapping:\n",
    "            depress_all_posts.append(test_posts[i])\n",
    "len(depress_screen_posts), len(depress_all_posts)"
   ]
  },
  {
   "cell_type": "code",
   "execution_count": 28,
   "metadata": {},
   "outputs": [
    {
     "data": {
      "text/plain": [
       "17883"
      ]
     },
     "execution_count": 28,
     "metadata": {},
     "output_type": "execute_result"
    }
   ],
   "source": [
    "tmp = set(depress_screen_posts)\n",
    "depress_non_screen_posts = [x.replace(\"\\n\", \" \") for x in depress_all_posts if x.replace(\"\\n\", \" \")+\"\\n\" not in tmp]\n",
    "len(depress_non_screen_posts)"
   ]
  },
  {
   "cell_type": "code",
   "execution_count": 10,
   "metadata": {},
   "outputs": [
    {
     "data": {
      "text/plain": [
       "61475"
      ]
     },
     "execution_count": 10,
     "metadata": {},
     "output_type": "execute_result"
    }
   ],
   "source": [
    "depress_sel_post_words = word_tokenize(\"\\n\".join(depress_sel_posts).lower())\n",
    "depress_non_sel_post_words = word_tokenize(\"\\n\".join(depress_non_sel_posts).lower())\n",
    "depress_screen_post_words = depress_sel_post_words + depress_non_sel_post_words\n",
    "len(depress_screen_post_words)"
   ]
  },
  {
   "cell_type": "code",
   "execution_count": 38,
   "metadata": {},
   "outputs": [
    {
     "data": {
      "text/plain": [
       "(35231, 26244)"
      ]
     },
     "execution_count": 38,
     "metadata": {},
     "output_type": "execute_result"
    }
   ],
   "source": [
    "len(depress_sel_post_words), len(depress_non_sel_post_words)"
   ]
  },
  {
   "cell_type": "code",
   "execution_count": 29,
   "metadata": {},
   "outputs": [],
   "source": [
    "depress_non_screen_post_words = word_tokenize(\"\\n\".join(depress_non_screen_posts).lower().strip())"
   ]
  },
  {
   "cell_type": "code",
   "execution_count": 30,
   "metadata": {},
   "outputs": [
    {
     "data": {
      "text/plain": [
       "802144"
      ]
     },
     "execution_count": 30,
     "metadata": {},
     "output_type": "execute_result"
    }
   ],
   "source": [
    "len(depress_non_screen_post_words)"
   ]
  },
  {
   "cell_type": "code",
   "execution_count": 31,
   "metadata": {},
   "outputs": [],
   "source": [
    "depress_sel_post_liwc = {k:0 for k in category_names}\n",
    "depress_non_sel_post_liwc = {k:0 for k in category_names}\n",
    "depress_screen_post_liwc = {k:0 for k in category_names}\n",
    "depress_non_screen_post_liwc = {k:0 for k in category_names}\n",
    "def fill_liwc(words, liwc_counts):\n",
    "    for wd in words:\n",
    "        for cat in LIWC_parse(wd):\n",
    "            liwc_counts[cat] += 1\n",
    "fill_liwc(depress_sel_post_words, depress_sel_post_liwc)\n",
    "fill_liwc(depress_non_sel_post_words, depress_non_sel_post_liwc)\n",
    "fill_liwc(depress_screen_post_words, depress_screen_post_liwc)\n",
    "fill_liwc(depress_non_screen_post_words, depress_non_screen_post_liwc)"
   ]
  },
  {
   "cell_type": "code",
   "execution_count": 33,
   "metadata": {},
   "outputs": [],
   "source": [
    "depress_sel_post_liwc = pd.Series(depress_sel_post_liwc)\n",
    "depress_non_sel_post_liwc = pd.Series(depress_non_sel_post_liwc)\n",
    "depress_screen_post_liwc = pd.Series(depress_screen_post_liwc)\n",
    "depress_non_screen_post_liwc = pd.Series(depress_non_screen_post_liwc)"
   ]
  },
  {
   "cell_type": "code",
   "execution_count": 34,
   "metadata": {},
   "outputs": [
    {
     "data": {
      "text/html": [
       "<div>\n",
       "<style scoped>\n",
       "    .dataframe tbody tr th:only-of-type {\n",
       "        vertical-align: middle;\n",
       "    }\n",
       "\n",
       "    .dataframe tbody tr th {\n",
       "        vertical-align: top;\n",
       "    }\n",
       "\n",
       "    .dataframe thead th {\n",
       "        text-align: right;\n",
       "    }\n",
       "</style>\n",
       "<table border=\"1\" class=\"dataframe\">\n",
       "  <thead>\n",
       "    <tr style=\"text-align: right;\">\n",
       "      <th></th>\n",
       "      <th>sel</th>\n",
       "      <th>non_sel</th>\n",
       "      <th>screen</th>\n",
       "      <th>non_screen</th>\n",
       "    </tr>\n",
       "  </thead>\n",
       "  <tbody>\n",
       "    <tr>\n",
       "      <th>function (Function Words)</th>\n",
       "      <td>18421</td>\n",
       "      <td>13297</td>\n",
       "      <td>31718</td>\n",
       "      <td>382526</td>\n",
       "    </tr>\n",
       "    <tr>\n",
       "      <th>pronoun (Pronouns)</th>\n",
       "      <td>6400</td>\n",
       "      <td>4412</td>\n",
       "      <td>10812</td>\n",
       "      <td>120096</td>\n",
       "    </tr>\n",
       "    <tr>\n",
       "      <th>ppron (Personal Pronouns)</th>\n",
       "      <td>4177</td>\n",
       "      <td>2883</td>\n",
       "      <td>7060</td>\n",
       "      <td>75826</td>\n",
       "    </tr>\n",
       "    <tr>\n",
       "      <th>i (I)</th>\n",
       "      <td>2868</td>\n",
       "      <td>1918</td>\n",
       "      <td>4786</td>\n",
       "      <td>39330</td>\n",
       "    </tr>\n",
       "    <tr>\n",
       "      <th>we (We)</th>\n",
       "      <td>79</td>\n",
       "      <td>74</td>\n",
       "      <td>153</td>\n",
       "      <td>3317</td>\n",
       "    </tr>\n",
       "    <tr>\n",
       "      <th>...</th>\n",
       "      <td>...</td>\n",
       "      <td>...</td>\n",
       "      <td>...</td>\n",
       "      <td>...</td>\n",
       "    </tr>\n",
       "    <tr>\n",
       "      <th>swear (Swear)</th>\n",
       "      <td>100</td>\n",
       "      <td>63</td>\n",
       "      <td>163</td>\n",
       "      <td>2683</td>\n",
       "    </tr>\n",
       "    <tr>\n",
       "      <th>netspeak (Netspeak)</th>\n",
       "      <td>45</td>\n",
       "      <td>49</td>\n",
       "      <td>94</td>\n",
       "      <td>2665</td>\n",
       "    </tr>\n",
       "    <tr>\n",
       "      <th>assent (Assent)</th>\n",
       "      <td>59</td>\n",
       "      <td>60</td>\n",
       "      <td>119</td>\n",
       "      <td>2211</td>\n",
       "    </tr>\n",
       "    <tr>\n",
       "      <th>nonflu (Nonfluencies)</th>\n",
       "      <td>53</td>\n",
       "      <td>43</td>\n",
       "      <td>96</td>\n",
       "      <td>1599</td>\n",
       "    </tr>\n",
       "    <tr>\n",
       "      <th>filler (Filler Words)</th>\n",
       "      <td>13</td>\n",
       "      <td>8</td>\n",
       "      <td>21</td>\n",
       "      <td>329</td>\n",
       "    </tr>\n",
       "  </tbody>\n",
       "</table>\n",
       "<p>73 rows × 4 columns</p>\n",
       "</div>"
      ],
      "text/plain": [
       "                             sel  non_sel  screen  non_screen\n",
       "function (Function Words)  18421    13297   31718      382526\n",
       "pronoun (Pronouns)          6400     4412   10812      120096\n",
       "ppron (Personal Pronouns)   4177     2883    7060       75826\n",
       "i (I)                       2868     1918    4786       39330\n",
       "we (We)                       79       74     153        3317\n",
       "...                          ...      ...     ...         ...\n",
       "swear (Swear)                100       63     163        2683\n",
       "netspeak (Netspeak)           45       49      94        2665\n",
       "assent (Assent)               59       60     119        2211\n",
       "nonflu (Nonfluencies)         53       43      96        1599\n",
       "filler (Filler Words)         13        8      21         329\n",
       "\n",
       "[73 rows x 4 columns]"
      ]
     },
     "execution_count": 34,
     "metadata": {},
     "output_type": "execute_result"
    }
   ],
   "source": [
    "all_df = pd.DataFrame({\n",
    "    \"sel\": depress_sel_post_liwc,\n",
    "    \"non_sel\": depress_non_sel_post_liwc,\n",
    "    \"screen\": depress_screen_post_liwc,\n",
    "    \"non_screen\": depress_non_screen_post_liwc\n",
    "})\n",
    "all_df"
   ]
  },
  {
   "cell_type": "code",
   "execution_count": 35,
   "metadata": {},
   "outputs": [
    {
     "data": {
      "text/html": [
       "<div>\n",
       "<style scoped>\n",
       "    .dataframe tbody tr th:only-of-type {\n",
       "        vertical-align: middle;\n",
       "    }\n",
       "\n",
       "    .dataframe tbody tr th {\n",
       "        vertical-align: top;\n",
       "    }\n",
       "\n",
       "    .dataframe thead th {\n",
       "        text-align: right;\n",
       "    }\n",
       "</style>\n",
       "<table border=\"1\" class=\"dataframe\">\n",
       "  <thead>\n",
       "    <tr style=\"text-align: right;\">\n",
       "      <th></th>\n",
       "      <th>sel</th>\n",
       "      <th>non_sel</th>\n",
       "      <th>screen</th>\n",
       "      <th>non_screen</th>\n",
       "    </tr>\n",
       "  </thead>\n",
       "  <tbody>\n",
       "    <tr>\n",
       "      <th>function (Function Words)</th>\n",
       "      <td>0.186702</td>\n",
       "      <td>0.185975</td>\n",
       "      <td>0.186397</td>\n",
       "      <td>0.186108</td>\n",
       "    </tr>\n",
       "    <tr>\n",
       "      <th>pronoun (Pronouns)</th>\n",
       "      <td>0.064866</td>\n",
       "      <td>0.061707</td>\n",
       "      <td>0.063539</td>\n",
       "      <td>0.058430</td>\n",
       "    </tr>\n",
       "    <tr>\n",
       "      <th>ppron (Personal Pronouns)</th>\n",
       "      <td>0.042335</td>\n",
       "      <td>0.040322</td>\n",
       "      <td>0.041489</td>\n",
       "      <td>0.036891</td>\n",
       "    </tr>\n",
       "    <tr>\n",
       "      <th>i (I)</th>\n",
       "      <td>0.029068</td>\n",
       "      <td>0.026826</td>\n",
       "      <td>0.028126</td>\n",
       "      <td>0.019135</td>\n",
       "    </tr>\n",
       "    <tr>\n",
       "      <th>we (We)</th>\n",
       "      <td>0.000801</td>\n",
       "      <td>0.001035</td>\n",
       "      <td>0.000899</td>\n",
       "      <td>0.001614</td>\n",
       "    </tr>\n",
       "    <tr>\n",
       "      <th>...</th>\n",
       "      <td>...</td>\n",
       "      <td>...</td>\n",
       "      <td>...</td>\n",
       "      <td>...</td>\n",
       "    </tr>\n",
       "    <tr>\n",
       "      <th>swear (Swear)</th>\n",
       "      <td>0.001014</td>\n",
       "      <td>0.000881</td>\n",
       "      <td>0.000958</td>\n",
       "      <td>0.001305</td>\n",
       "    </tr>\n",
       "    <tr>\n",
       "      <th>netspeak (Netspeak)</th>\n",
       "      <td>0.000456</td>\n",
       "      <td>0.000685</td>\n",
       "      <td>0.000552</td>\n",
       "      <td>0.001297</td>\n",
       "    </tr>\n",
       "    <tr>\n",
       "      <th>assent (Assent)</th>\n",
       "      <td>0.000598</td>\n",
       "      <td>0.000839</td>\n",
       "      <td>0.000699</td>\n",
       "      <td>0.001076</td>\n",
       "    </tr>\n",
       "    <tr>\n",
       "      <th>nonflu (Nonfluencies)</th>\n",
       "      <td>0.000537</td>\n",
       "      <td>0.000601</td>\n",
       "      <td>0.000564</td>\n",
       "      <td>0.000778</td>\n",
       "    </tr>\n",
       "    <tr>\n",
       "      <th>filler (Filler Words)</th>\n",
       "      <td>0.000132</td>\n",
       "      <td>0.000112</td>\n",
       "      <td>0.000123</td>\n",
       "      <td>0.000160</td>\n",
       "    </tr>\n",
       "  </tbody>\n",
       "</table>\n",
       "<p>73 rows × 4 columns</p>\n",
       "</div>"
      ],
      "text/plain": [
       "                                sel   non_sel    screen  non_screen\n",
       "function (Function Words)  0.186702  0.185975  0.186397    0.186108\n",
       "pronoun (Pronouns)         0.064866  0.061707  0.063539    0.058430\n",
       "ppron (Personal Pronouns)  0.042335  0.040322  0.041489    0.036891\n",
       "i (I)                      0.029068  0.026826  0.028126    0.019135\n",
       "we (We)                    0.000801  0.001035  0.000899    0.001614\n",
       "...                             ...       ...       ...         ...\n",
       "swear (Swear)              0.001014  0.000881  0.000958    0.001305\n",
       "netspeak (Netspeak)        0.000456  0.000685  0.000552    0.001297\n",
       "assent (Assent)            0.000598  0.000839  0.000699    0.001076\n",
       "nonflu (Nonfluencies)      0.000537  0.000601  0.000564    0.000778\n",
       "filler (Filler Words)      0.000132  0.000112  0.000123    0.000160\n",
       "\n",
       "[73 rows x 4 columns]"
      ]
     },
     "execution_count": 35,
     "metadata": {},
     "output_type": "execute_result"
    }
   ],
   "source": [
    "all_df_norm = all_df / all_df.sum(0)\n",
    "all_df_norm"
   ]
  },
  {
   "cell_type": "code",
   "execution_count": 36,
   "metadata": {},
   "outputs": [],
   "source": [
    "all_df_norm.to_csv(\"./LIWC_normalized.csv\")"
   ]
  },
  {
   "cell_type": "code",
   "execution_count": 37,
   "metadata": {},
   "outputs": [],
   "source": [
    "from statsmodels.stats.proportion import proportions_ztest"
   ]
  },
  {
   "cell_type": "code",
   "execution_count": 48,
   "metadata": {},
   "outputs": [
    {
     "name": "stdout",
     "output_type": "stream",
     "text": [
      "i (I) 0.00013943763033740197\n",
      "posemo (Positive Emotions) 0.5834230566940983\n",
      "negemo (Negative Emotions) 0.08898760629719134\n",
      "sad (Sad) 0.010833097620077574\n",
      "health (Health) 1.1624039242552796e-09\n",
      "anx (Anx) 0.09349313153587031\n"
     ]
    }
   ],
   "source": [
    "for dim in [\"i (I)\", \"posemo (Positive Emotions)\", \"negemo (Negative Emotions)\", \"sad (Sad)\", \"health (Health)\", \"anx (Anx)\"]:\n",
    "    stat, pval = proportions_ztest(\n",
    "        count = [all_df.loc[dim, \"sel\"], all_df.loc[dim, \"non_sel\"]],\n",
    "        nobs = [len(depress_sel_post_words), len(depress_non_sel_post_words)]\n",
    "    )\n",
    "    print(dim, pval)"
   ]
  },
  {
   "cell_type": "code",
   "execution_count": 49,
   "metadata": {},
   "outputs": [
    {
     "name": "stdout",
     "output_type": "stream",
     "text": [
      "i (I) 8.423241160228661e-215\n",
      "posemo (Positive Emotions) 0.015820488819570006\n",
      "negemo (Negative Emotions) 3.771591691360736e-106\n",
      "sad (Sad) 6.039499579032894e-172\n",
      "health (Health) 1.5604994344610583e-55\n",
      "anx (Anx) 4.984018015264887e-21\n"
     ]
    }
   ],
   "source": [
    "for dim in [\"i (I)\", \"posemo (Positive Emotions)\", \"negemo (Negative Emotions)\", \"sad (Sad)\", \"health (Health)\", \"anx (Anx)\"]:\n",
    "    stat, pval = proportions_ztest(\n",
    "        count = [all_df.loc[dim, \"screen\"], all_df.loc[dim, \"non_screen\"]],\n",
    "        nobs = [len(depress_screen_post_words), len(depress_non_screen_post_words)]\n",
    "    )\n",
    "    print(dim, pval)"
   ]
  },
  {
   "cell_type": "code",
   "execution_count": 50,
   "metadata": {},
   "outputs": [],
   "source": [
    "non_depress_all_posts = []\n",
    "for mapping, tag in zip(test_mappings, test_tags):\n",
    "    if tag == 0:\n",
    "        for i in mapping:\n",
    "            non_depress_all_posts.append(test_posts[i])"
   ]
  },
  {
   "cell_type": "code",
   "execution_count": 51,
   "metadata": {},
   "outputs": [],
   "source": [
    "non_depress_post_words = word_tokenize(\"\\n\".join(non_depress_all_posts).lower().strip())"
   ]
  },
  {
   "cell_type": "code",
   "execution_count": 52,
   "metadata": {},
   "outputs": [],
   "source": [
    "non_depress_post_liwc = {k:0 for k in category_names}\n",
    "fill_liwc(non_depress_post_words, non_depress_post_liwc)"
   ]
  },
  {
   "cell_type": "code",
   "execution_count": 54,
   "metadata": {},
   "outputs": [
    {
     "data": {
      "text/html": [
       "<div>\n",
       "<style scoped>\n",
       "    .dataframe tbody tr th:only-of-type {\n",
       "        vertical-align: middle;\n",
       "    }\n",
       "\n",
       "    .dataframe tbody tr th {\n",
       "        vertical-align: top;\n",
       "    }\n",
       "\n",
       "    .dataframe thead th {\n",
       "        text-align: right;\n",
       "    }\n",
       "</style>\n",
       "<table border=\"1\" class=\"dataframe\">\n",
       "  <thead>\n",
       "    <tr style=\"text-align: right;\">\n",
       "      <th></th>\n",
       "      <th>sel</th>\n",
       "      <th>non_sel</th>\n",
       "      <th>screen</th>\n",
       "      <th>non_screen</th>\n",
       "      <th>non_depress</th>\n",
       "    </tr>\n",
       "  </thead>\n",
       "  <tbody>\n",
       "    <tr>\n",
       "      <th>function (Function Words)</th>\n",
       "      <td>18421</td>\n",
       "      <td>13297</td>\n",
       "      <td>31718</td>\n",
       "      <td>382526</td>\n",
       "      <td>3339969</td>\n",
       "    </tr>\n",
       "    <tr>\n",
       "      <th>pronoun (Pronouns)</th>\n",
       "      <td>6400</td>\n",
       "      <td>4412</td>\n",
       "      <td>10812</td>\n",
       "      <td>120096</td>\n",
       "      <td>903445</td>\n",
       "    </tr>\n",
       "    <tr>\n",
       "      <th>ppron (Personal Pronouns)</th>\n",
       "      <td>4177</td>\n",
       "      <td>2883</td>\n",
       "      <td>7060</td>\n",
       "      <td>75826</td>\n",
       "      <td>524049</td>\n",
       "    </tr>\n",
       "    <tr>\n",
       "      <th>i (I)</th>\n",
       "      <td>2868</td>\n",
       "      <td>1918</td>\n",
       "      <td>4786</td>\n",
       "      <td>39330</td>\n",
       "      <td>240230</td>\n",
       "    </tr>\n",
       "    <tr>\n",
       "      <th>we (We)</th>\n",
       "      <td>79</td>\n",
       "      <td>74</td>\n",
       "      <td>153</td>\n",
       "      <td>3317</td>\n",
       "      <td>35660</td>\n",
       "    </tr>\n",
       "    <tr>\n",
       "      <th>...</th>\n",
       "      <td>...</td>\n",
       "      <td>...</td>\n",
       "      <td>...</td>\n",
       "      <td>...</td>\n",
       "      <td>...</td>\n",
       "    </tr>\n",
       "    <tr>\n",
       "      <th>swear (Swear)</th>\n",
       "      <td>100</td>\n",
       "      <td>63</td>\n",
       "      <td>163</td>\n",
       "      <td>2683</td>\n",
       "      <td>25967</td>\n",
       "    </tr>\n",
       "    <tr>\n",
       "      <th>netspeak (Netspeak)</th>\n",
       "      <td>45</td>\n",
       "      <td>49</td>\n",
       "      <td>94</td>\n",
       "      <td>2665</td>\n",
       "      <td>25771</td>\n",
       "    </tr>\n",
       "    <tr>\n",
       "      <th>assent (Assent)</th>\n",
       "      <td>59</td>\n",
       "      <td>60</td>\n",
       "      <td>119</td>\n",
       "      <td>2211</td>\n",
       "      <td>19483</td>\n",
       "    </tr>\n",
       "    <tr>\n",
       "      <th>nonflu (Nonfluencies)</th>\n",
       "      <td>53</td>\n",
       "      <td>43</td>\n",
       "      <td>96</td>\n",
       "      <td>1599</td>\n",
       "      <td>13873</td>\n",
       "    </tr>\n",
       "    <tr>\n",
       "      <th>filler (Filler Words)</th>\n",
       "      <td>13</td>\n",
       "      <td>8</td>\n",
       "      <td>21</td>\n",
       "      <td>329</td>\n",
       "      <td>2290</td>\n",
       "    </tr>\n",
       "  </tbody>\n",
       "</table>\n",
       "<p>73 rows × 5 columns</p>\n",
       "</div>"
      ],
      "text/plain": [
       "                             sel  non_sel  screen  non_screen  non_depress\n",
       "function (Function Words)  18421    13297   31718      382526      3339969\n",
       "pronoun (Pronouns)          6400     4412   10812      120096       903445\n",
       "ppron (Personal Pronouns)   4177     2883    7060       75826       524049\n",
       "i (I)                       2868     1918    4786       39330       240230\n",
       "we (We)                       79       74     153        3317        35660\n",
       "...                          ...      ...     ...         ...          ...\n",
       "swear (Swear)                100       63     163        2683        25967\n",
       "netspeak (Netspeak)           45       49      94        2665        25771\n",
       "assent (Assent)               59       60     119        2211        19483\n",
       "nonflu (Nonfluencies)         53       43      96        1599        13873\n",
       "filler (Filler Words)         13        8      21         329         2290\n",
       "\n",
       "[73 rows x 5 columns]"
      ]
     },
     "execution_count": 54,
     "metadata": {},
     "output_type": "execute_result"
    }
   ],
   "source": [
    "all_df = pd.DataFrame({\n",
    "    \"sel\": depress_sel_post_liwc,\n",
    "    \"non_sel\": depress_non_sel_post_liwc,\n",
    "    \"screen\": depress_screen_post_liwc,\n",
    "    \"non_screen\": depress_non_screen_post_liwc,\n",
    "    \"non_depress\": non_depress_post_liwc\n",
    "})\n",
    "all_df"
   ]
  },
  {
   "cell_type": "code",
   "execution_count": 55,
   "metadata": {},
   "outputs": [
    {
     "data": {
      "text/html": [
       "<div>\n",
       "<style scoped>\n",
       "    .dataframe tbody tr th:only-of-type {\n",
       "        vertical-align: middle;\n",
       "    }\n",
       "\n",
       "    .dataframe tbody tr th {\n",
       "        vertical-align: top;\n",
       "    }\n",
       "\n",
       "    .dataframe thead th {\n",
       "        text-align: right;\n",
       "    }\n",
       "</style>\n",
       "<table border=\"1\" class=\"dataframe\">\n",
       "  <thead>\n",
       "    <tr style=\"text-align: right;\">\n",
       "      <th></th>\n",
       "      <th>sel</th>\n",
       "      <th>non_sel</th>\n",
       "      <th>screen</th>\n",
       "      <th>non_screen</th>\n",
       "      <th>non_depress</th>\n",
       "    </tr>\n",
       "  </thead>\n",
       "  <tbody>\n",
       "    <tr>\n",
       "      <th>function (Function Words)</th>\n",
       "      <td>0.186702</td>\n",
       "      <td>0.185975</td>\n",
       "      <td>0.186397</td>\n",
       "      <td>0.186108</td>\n",
       "      <td>0.186198</td>\n",
       "    </tr>\n",
       "    <tr>\n",
       "      <th>pronoun (Pronouns)</th>\n",
       "      <td>0.064866</td>\n",
       "      <td>0.061707</td>\n",
       "      <td>0.063539</td>\n",
       "      <td>0.058430</td>\n",
       "      <td>0.050366</td>\n",
       "    </tr>\n",
       "    <tr>\n",
       "      <th>ppron (Personal Pronouns)</th>\n",
       "      <td>0.042335</td>\n",
       "      <td>0.040322</td>\n",
       "      <td>0.041489</td>\n",
       "      <td>0.036891</td>\n",
       "      <td>0.029215</td>\n",
       "    </tr>\n",
       "    <tr>\n",
       "      <th>i (I)</th>\n",
       "      <td>0.029068</td>\n",
       "      <td>0.026826</td>\n",
       "      <td>0.028126</td>\n",
       "      <td>0.019135</td>\n",
       "      <td>0.013392</td>\n",
       "    </tr>\n",
       "    <tr>\n",
       "      <th>we (We)</th>\n",
       "      <td>0.000801</td>\n",
       "      <td>0.001035</td>\n",
       "      <td>0.000899</td>\n",
       "      <td>0.001614</td>\n",
       "      <td>0.001988</td>\n",
       "    </tr>\n",
       "    <tr>\n",
       "      <th>...</th>\n",
       "      <td>...</td>\n",
       "      <td>...</td>\n",
       "      <td>...</td>\n",
       "      <td>...</td>\n",
       "      <td>...</td>\n",
       "    </tr>\n",
       "    <tr>\n",
       "      <th>swear (Swear)</th>\n",
       "      <td>0.001014</td>\n",
       "      <td>0.000881</td>\n",
       "      <td>0.000958</td>\n",
       "      <td>0.001305</td>\n",
       "      <td>0.001448</td>\n",
       "    </tr>\n",
       "    <tr>\n",
       "      <th>netspeak (Netspeak)</th>\n",
       "      <td>0.000456</td>\n",
       "      <td>0.000685</td>\n",
       "      <td>0.000552</td>\n",
       "      <td>0.001297</td>\n",
       "      <td>0.001437</td>\n",
       "    </tr>\n",
       "    <tr>\n",
       "      <th>assent (Assent)</th>\n",
       "      <td>0.000598</td>\n",
       "      <td>0.000839</td>\n",
       "      <td>0.000699</td>\n",
       "      <td>0.001076</td>\n",
       "      <td>0.001086</td>\n",
       "    </tr>\n",
       "    <tr>\n",
       "      <th>nonflu (Nonfluencies)</th>\n",
       "      <td>0.000537</td>\n",
       "      <td>0.000601</td>\n",
       "      <td>0.000564</td>\n",
       "      <td>0.000778</td>\n",
       "      <td>0.000773</td>\n",
       "    </tr>\n",
       "    <tr>\n",
       "      <th>filler (Filler Words)</th>\n",
       "      <td>0.000132</td>\n",
       "      <td>0.000112</td>\n",
       "      <td>0.000123</td>\n",
       "      <td>0.000160</td>\n",
       "      <td>0.000128</td>\n",
       "    </tr>\n",
       "  </tbody>\n",
       "</table>\n",
       "<p>73 rows × 5 columns</p>\n",
       "</div>"
      ],
      "text/plain": [
       "                                sel   non_sel    screen  non_screen  \\\n",
       "function (Function Words)  0.186702  0.185975  0.186397    0.186108   \n",
       "pronoun (Pronouns)         0.064866  0.061707  0.063539    0.058430   \n",
       "ppron (Personal Pronouns)  0.042335  0.040322  0.041489    0.036891   \n",
       "i (I)                      0.029068  0.026826  0.028126    0.019135   \n",
       "we (We)                    0.000801  0.001035  0.000899    0.001614   \n",
       "...                             ...       ...       ...         ...   \n",
       "swear (Swear)              0.001014  0.000881  0.000958    0.001305   \n",
       "netspeak (Netspeak)        0.000456  0.000685  0.000552    0.001297   \n",
       "assent (Assent)            0.000598  0.000839  0.000699    0.001076   \n",
       "nonflu (Nonfluencies)      0.000537  0.000601  0.000564    0.000778   \n",
       "filler (Filler Words)      0.000132  0.000112  0.000123    0.000160   \n",
       "\n",
       "                           non_depress  \n",
       "function (Function Words)     0.186198  \n",
       "pronoun (Pronouns)            0.050366  \n",
       "ppron (Personal Pronouns)     0.029215  \n",
       "i (I)                         0.013392  \n",
       "we (We)                       0.001988  \n",
       "...                                ...  \n",
       "swear (Swear)                 0.001448  \n",
       "netspeak (Netspeak)           0.001437  \n",
       "assent (Assent)               0.001086  \n",
       "nonflu (Nonfluencies)         0.000773  \n",
       "filler (Filler Words)         0.000128  \n",
       "\n",
       "[73 rows x 5 columns]"
      ]
     },
     "execution_count": 55,
     "metadata": {},
     "output_type": "execute_result"
    }
   ],
   "source": [
    "all_df_norm = all_df / all_df.sum(0)\n",
    "all_df_norm"
   ]
  },
  {
   "cell_type": "code",
   "execution_count": 56,
   "metadata": {},
   "outputs": [],
   "source": [
    "all_df_norm.to_csv(\"./LIWC_normalized.csv\")"
   ]
  },
  {
   "cell_type": "code",
   "execution_count": 57,
   "metadata": {},
   "outputs": [
    {
     "name": "stdout",
     "output_type": "stream",
     "text": [
      "i (I) 0.0\n",
      "posemo (Positive Emotions) 2.3699360445640995e-84\n",
      "negemo (Negative Emotions) 7.62803312940832e-09\n",
      "sad (Sad) 6.348395427679877e-34\n",
      "health (Health) 3.49825813041458e-27\n",
      "anx (Anx) 1.4605760325009146e-42\n"
     ]
    }
   ],
   "source": [
    "for dim in [\"i (I)\", \"posemo (Positive Emotions)\", \"negemo (Negative Emotions)\", \"sad (Sad)\", \"health (Health)\", \"anx (Anx)\"]:\n",
    "    stat, pval = proportions_ztest(\n",
    "        count = [all_df.loc[dim, \"non_depress\"], all_df.loc[dim, \"non_screen\"]],\n",
    "        nobs = [len(non_depress_post_words), len(depress_non_screen_post_words)]\n",
    "    )\n",
    "    print(dim, pval)"
   ]
  },
  {
   "cell_type": "code",
   "execution_count": null,
   "metadata": {},
   "outputs": [],
   "source": []
  }
 ],
 "metadata": {
  "interpreter": {
   "hash": "74d07dc07065639914d79fc95a011a49c7b91ce6bf0d82680fb06e81dd1e87b0"
  },
  "kernelspec": {
   "display_name": "Python 3.6.10 64-bit ('py36': conda)",
   "name": "python3"
  },
  "language_info": {
   "codemirror_mode": {
    "name": "ipython",
    "version": 3
   },
   "file_extension": ".py",
   "mimetype": "text/x-python",
   "name": "python",
   "nbconvert_exporter": "python",
   "pygments_lexer": "ipython3",
   "version": "3.6.10"
  },
  "orig_nbformat": 4
 },
 "nbformat": 4,
 "nbformat_minor": 2
}
