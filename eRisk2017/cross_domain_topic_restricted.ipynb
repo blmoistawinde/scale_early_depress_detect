{
 "cells": [
  {
   "cell_type": "code",
   "execution_count": null,
   "metadata": {},
   "outputs": [],
   "source": [
    "import os\n",
    "os.environ[\"CUDA_VISIBLE_DEVICES\"] = \"0\"\n",
    "os.environ[\"TOKENIZERS_PARALLELISM\"] = \"false\"\n",
    "import argparse\n",
    "import torch\n",
    "import pickle\n",
    "import numpy as np\n",
    "import pandas as pd\n",
    "import matplotlib.pyplot as plt\n",
    "from tqdm import tqdm\n",
    "from torch import nn, optim\n",
    "from data import HierDataModule\n",
    "from data import infer_preprocess\n",
    "from ERDE import ERDE_sample\n",
    "from model import HierClassifier\n",
    "from transformers import AutoTokenizer\n",
    "import pytorch_lightning as pl\n",
    "from pytorch_lightning import seed_everything\n",
    "from pytorch_lightning.callbacks.early_stopping import EarlyStopping\n",
    "from collections import defaultdict, Counter\n",
    "from sentence_transformers import SentenceTransformer\n",
    "from sklearn.metrics.pairwise import cosine_similarity\n",
    "from model import HierClassifier\n",
    "from ERDE import ERDE_chunk\n",
    "import xml.dom.minidom\n",
    "import string\n",
    "from nltk import word_tokenize\n",
    "from sklearn.feature_extraction.text import TfidfVectorizer\n",
    "from sklearn.metrics import accuracy_score, f1_score, precision_score, recall_score\n",
    "from sklearn.linear_model import LogisticRegression\n",
    "from sklearn.svm import LinearSVC"
   ]
  },
  {
   "cell_type": "markdown",
   "metadata": {},
   "source": [
    "## baseline model"
   ]
  },
  {
   "cell_type": "code",
   "execution_count": null,
   "metadata": {},
   "outputs": [],
   "source": [
    "with open(\"processed/miniLM_L6_embs.pkl\", \"rb\") as f:\n",
    "    data = pickle.load(f)\n",
    "\n",
    "train_posts = data[\"train_posts\"]\n",
    "train_mappings = data[\"train_mappings\"]\n",
    "train_tags = data[\"train_labels\"]\n",
    "train_embs = data[\"train_embs\"]\n",
    "test_posts = data[\"test_posts\"]\n",
    "test_mappings = data[\"test_mappings\"]\n",
    "test_tags = data[\"test_labels\"]\n",
    "test_embs = data[\"test_embs\"]"
   ]
  },
  {
   "cell_type": "code",
   "execution_count": null,
   "metadata": {},
   "outputs": [],
   "source": [
    "with open(\"../Topic-Restrcted/baseline_outputs/tfidf.pkl\", \"rb\") as f:\n",
    "    tfidf_model = pickle.load(f)\n",
    "with open(\"../Topic-Restrcted/baseline_outputs/lr.pkl\", \"rb\") as f:\n",
    "    lr = pickle.load(f)\n",
    "with open(\"../Topic-Restrcted/baseline_outputs/lsvm.pkl\", \"rb\") as f:\n",
    "    clf = pickle.load(f)"
   ]
  },
  {
   "cell_type": "code",
   "execution_count": null,
   "metadata": {},
   "outputs": [],
   "source": [
    "texts_test = [\" \".join([test_posts[i] for i in mappings]) for mappings in test_mappings]\n",
    "X_test = tfidf_model.transform(texts_test)\n",
    "X_test.shape"
   ]
  },
  {
   "cell_type": "code",
   "execution_count": null,
   "metadata": {},
   "outputs": [],
   "source": [
    "Y_test = np.array(test_tags)\n",
    "Y_preds = lr.predict(X_test)\n",
    "acc = accuracy_score(Y_test, Y_preds)\n",
    "p = precision_score(Y_test, Y_preds)\n",
    "r = recall_score(Y_test, Y_preds)\n",
    "f1 = f1_score(Y_test, Y_preds)\n",
    "print(\"Logistic Regression\")\n",
    "print(f\"Acc: {acc:.5f}, P: {p:.5f}, R: {r:.5f}, F: {f1:.5f}\")"
   ]
  },
  {
   "cell_type": "code",
   "execution_count": null,
   "metadata": {},
   "outputs": [],
   "source": [
    "Y_preds = clf.predict(X_test)\n",
    "acc = accuracy_score(Y_test, Y_preds)\n",
    "p = precision_score(Y_test, Y_preds)\n",
    "r = recall_score(Y_test, Y_preds)\n",
    "f1 = f1_score(Y_test, Y_preds)\n",
    "print(\"Linear SVM\")\n",
    "print(f\"Acc: {acc:.5f}, P: {p:.5f}, R: {r:.5f}, F: {f1:.5f}\")"
   ]
  },
  {
   "cell_type": "markdown",
   "metadata": {},
   "source": [
    "mental health filtered"
   ]
  },
  {
   "cell_type": "code",
   "execution_count": null,
   "metadata": {},
   "outputs": [],
   "source": [
    "with open(\"../Topic-Restrcted/baseline_outputs_all/tfidf.pkl\", \"rb\") as f:\n",
    "    tfidf_model = pickle.load(f)\n",
    "with open(\"../Topic-Restrcted/baseline_outputs_all/lr.pkl\", \"rb\") as f:\n",
    "    lr = pickle.load(f)\n",
    "with open(\"../Topic-Restrcted/baseline_outputs_all/lsvm.pkl\", \"rb\") as f:\n",
    "    clf = pickle.load(f)"
   ]
  },
  {
   "cell_type": "code",
   "execution_count": null,
   "metadata": {},
   "outputs": [],
   "source": [
    "texts_test = [\" \".join([test_posts[i] for i in mappings]) for mappings in test_mappings]\n",
    "X_test = tfidf_model.transform(texts_test)\n",
    "X_test.shape"
   ]
  },
  {
   "cell_type": "code",
   "execution_count": null,
   "metadata": {},
   "outputs": [],
   "source": [
    "Y_test = np.array(test_tags)\n",
    "Y_preds = lr.predict(X_test)\n",
    "acc = accuracy_score(Y_test, Y_preds)\n",
    "p = precision_score(Y_test, Y_preds)\n",
    "r = recall_score(Y_test, Y_preds)\n",
    "f1 = f1_score(Y_test, Y_preds)\n",
    "print(\"Logistic Regression\")\n",
    "print(f\"Acc: {acc:.5f}, P: {p:.5f}, R: {r:.5f}, F: {f1:.5f}\")"
   ]
  },
  {
   "cell_type": "code",
   "execution_count": null,
   "metadata": {},
   "outputs": [],
   "source": [
    "Y_preds = clf.predict(X_test)\n",
    "acc = accuracy_score(Y_test, Y_preds)\n",
    "p = precision_score(Y_test, Y_preds)\n",
    "r = recall_score(Y_test, Y_preds)\n",
    "f1 = f1_score(Y_test, Y_preds)\n",
    "print(\"Linear SVM\")\n",
    "print(f\"Acc: {acc:.5f}, P: {p:.5f}, R: {r:.5f}, F: {f1:.5f}\")"
   ]
  },
  {
   "cell_type": "markdown",
   "metadata": {},
   "source": [
    "## deep model"
   ]
  },
  {
   "cell_type": "code",
   "execution_count": null,
   "metadata": {},
   "outputs": [],
   "source": [
    "def infer_texts(texts):\n",
    "    batch = infer_preprocess(tokenizer, texts, max_len)\n",
    "    for k, v in batch.items():\n",
    "        batch[k] = v.cuda()\n",
    "    with torch.no_grad():\n",
    "        logits, attn_score = clf([batch])\n",
    "    return torch.sigmoid(logits).detach().cpu().item(), attn_score[0].detach().cpu().numpy()"
   ]
  },
  {
   "cell_type": "markdown",
   "metadata": {},
   "source": [
    "combined sim 16"
   ]
  },
  {
   "cell_type": "code",
   "execution_count": null,
   "metadata": {},
   "outputs": [],
   "source": [
    "clf = HierClassifier.load_from_checkpoint(\n",
    "    \"[pretrained ckpt at Topic-Restricted]\"\n",
    ")\n",
    "clf.eval()\n",
    "tokenizer = AutoTokenizer.from_pretrained(clf.model_type)\n",
    "max_len = clf.hparams.max_len\n",
    "max_posts = 16\n",
    "clf.cuda()\n",
    "None"
   ]
  },
  {
   "cell_type": "code",
   "execution_count": null,
   "metadata": {},
   "outputs": [],
   "source": [
    "input_dir = \"./processed/combined_maxsim16/test\"\n",
    "Y_preds = []\n",
    "Y_test = []\n",
    "for fname in tqdm(os.listdir(input_dir)):\n",
    "    posts = open(os.path.join(input_dir, fname), encoding=\"utf-8\").read().strip().split(\"\\n\")\n",
    "    label = float(fname[-5])\n",
    "    proba, attn_score = infer_texts(posts)\n",
    "    Y_test.append(label)\n",
    "    Y_preds.append(float(proba >= 0.5))\n",
    "Y_preds = np.array(Y_preds)\n",
    "Y_test = np.array(Y_test)\n",
    "acc = accuracy_score(Y_test, Y_preds)\n",
    "p = precision_score(Y_test, Y_preds)\n",
    "r = recall_score(Y_test, Y_preds)\n",
    "f1 = f1_score(Y_test, Y_preds)\n",
    "print(f\"Acc: {acc:.5f}, P: {p:.5f}, R: {r:.5f}, F: {f1:.5f}\")"
   ]
  },
  {
   "cell_type": "code",
   "execution_count": null,
   "metadata": {},
   "outputs": [],
   "source": [
    "clf = HierClassifier.load_from_checkpoint(\n",
    "    \"../Topic-Restricted/lightning_logs/version_9/checkpoints/epoch=1-step=659.ckpt\"\n",
    ")\n",
    "clf.eval()\n",
    "tokenizer = AutoTokenizer.from_pretrained(clf.model_type)\n",
    "max_len = clf.hparams.max_len\n",
    "max_posts = 16\n",
    "clf.cuda()"
   ]
  },
  {
   "cell_type": "code",
   "execution_count": null,
   "metadata": {},
   "outputs": [],
   "source": [
    "input_dir = \"./processed/combined_maxsim16/test\"\n",
    "Y_preds = []\n",
    "Y_test = []\n",
    "for fname in tqdm(os.listdir(input_dir)):\n",
    "    posts = open(os.path.join(input_dir, fname), encoding=\"utf-8\").read().strip().split(\"\\n\")\n",
    "    label = float(fname[-5])\n",
    "    proba, attn_score = infer_texts(posts)\n",
    "    Y_test.append(label)\n",
    "    Y_preds.append(float(proba >= 0.5))\n",
    "Y_preds = np.array(Y_preds)\n",
    "Y_test = np.array(Y_test)\n",
    "acc = accuracy_score(Y_test, Y_preds)\n",
    "p = precision_score(Y_test, Y_preds)\n",
    "r = recall_score(Y_test, Y_preds)\n",
    "f1 = f1_score(Y_test, Y_preds)\n",
    "print(f\"Acc: {acc:.5f}, P: {p:.5f}, R: {r:.5f}, F: {f1:.5f}\")"
   ]
  },
  {
   "cell_type": "code",
   "execution_count": null,
   "metadata": {},
   "outputs": [],
   "source": [
    "clf = HierClassifier.load_from_checkpoint(\n",
    "    \"../Topic-Restricted/lightning_logs/version_16/checkpoints/epoch=3-step=1319.ckpt\"\n",
    ")\n",
    "clf.eval()\n",
    "tokenizer = AutoTokenizer.from_pretrained(clf.model_type)\n",
    "max_len = clf.hparams.max_len\n",
    "max_posts = 16\n",
    "clf.cuda()\n",
    "None"
   ]
  },
  {
   "cell_type": "code",
   "execution_count": null,
   "metadata": {},
   "outputs": [],
   "source": [
    "input_dir = \"./processed/combined_maxsim16/test\"\n",
    "Y_preds = []\n",
    "Y_test = []\n",
    "for fname in tqdm(os.listdir(input_dir)):\n",
    "    posts = open(os.path.join(input_dir, fname), encoding=\"utf-8\").read().strip().split(\"\\n\")\n",
    "    label = float(fname[-5])\n",
    "    proba, attn_score = infer_texts(posts)\n",
    "    Y_test.append(label)\n",
    "    Y_preds.append(float(proba >= 0.5))\n",
    "Y_preds = np.array(Y_preds)\n",
    "Y_test = np.array(Y_test)\n",
    "acc = accuracy_score(Y_test, Y_preds)\n",
    "p = precision_score(Y_test, Y_preds)\n",
    "r = recall_score(Y_test, Y_preds)\n",
    "f1 = f1_score(Y_test, Y_preds)\n",
    "print(f\"Acc: {acc:.5f}, P: {p:.5f}, R: {r:.5f}, F: {f1:.5f}\")"
   ]
  },
  {
   "cell_type": "code",
   "execution_count": null,
   "metadata": {},
   "outputs": [],
   "source": [
    "clf = HierClassifier.load_from_checkpoint(\n",
    "    \"../Topic-Restricted/lightning_logs/version_18/checkpoints/epoch=2-step=989.ckpt\"\n",
    ")\n",
    "clf.eval()\n",
    "tokenizer = AutoTokenizer.from_pretrained(clf.model_type)\n",
    "max_len = clf.hparams.max_len\n",
    "max_posts = 16\n",
    "clf.cuda()\n",
    "None"
   ]
  },
  {
   "cell_type": "code",
   "execution_count": null,
   "metadata": {},
   "outputs": [],
   "source": [
    "input_dir = \"./processed/combined_maxsim16/test\"\n",
    "Y_preds = []\n",
    "Y_test = []\n",
    "for fname in tqdm(os.listdir(input_dir)):\n",
    "    posts = open(os.path.join(input_dir, fname), encoding=\"utf-8\").read().strip().split(\"\\n\")\n",
    "    label = float(fname[-5])\n",
    "    proba, attn_score = infer_texts(posts)\n",
    "    Y_test.append(label)\n",
    "    Y_preds.append(float(proba >= 0.5))\n",
    "Y_preds = np.array(Y_preds)\n",
    "Y_test = np.array(Y_test)\n",
    "acc = accuracy_score(Y_test, Y_preds)\n",
    "p = precision_score(Y_test, Y_preds)\n",
    "r = recall_score(Y_test, Y_preds)\n",
    "f1 = f1_score(Y_test, Y_preds)\n",
    "print(f\"Acc: {acc:.5f}, P: {p:.5f}, R: {r:.5f}, F: {f1:.5f}\")"
   ]
  },
  {
   "cell_type": "markdown",
   "metadata": {},
   "source": [
    "depress 16"
   ]
  },
  {
   "cell_type": "code",
   "execution_count": null,
   "metadata": {},
   "outputs": [],
   "source": [
    "clf = HierClassifier.load_from_checkpoint(\n",
    "    \"../Topic-Restricted/lightning_logs/version_11/checkpoints/epoch=2-step=989.ckpt\"\n",
    ")\n",
    "clf.eval()\n",
    "tokenizer = AutoTokenizer.from_pretrained(clf.model_type)\n",
    "max_len = clf.hparams.max_len\n",
    "max_posts = 16\n",
    "clf.cuda()\n",
    "None"
   ]
  },
  {
   "cell_type": "code",
   "execution_count": null,
   "metadata": {},
   "outputs": [],
   "source": [
    "input_dir = \"./processed/depress_sim16/test\"\n",
    "Y_preds = []\n",
    "Y_test = []\n",
    "for fname in tqdm(os.listdir(input_dir)):\n",
    "    posts = open(os.path.join(input_dir, fname), encoding=\"utf-8\").read().strip().split(\"\\n\")\n",
    "    label = float(fname[-5])\n",
    "    proba, attn_score = infer_texts(posts)\n",
    "    Y_test.append(label)\n",
    "    Y_preds.append(float(proba >= 0.5))\n",
    "Y_preds = np.array(Y_preds)\n",
    "Y_test = np.array(Y_test)\n",
    "acc = accuracy_score(Y_test, Y_preds)\n",
    "p = precision_score(Y_test, Y_preds)\n",
    "r = recall_score(Y_test, Y_preds)\n",
    "f1 = f1_score(Y_test, Y_preds)\n",
    "print(f\"Acc: {acc:.5f}, P: {p:.5f}, R: {r:.5f}, F: {f1:.5f}\")"
   ]
  },
  {
   "cell_type": "code",
   "execution_count": null,
   "metadata": {},
   "outputs": [],
   "source": [
    "clf = HierClassifier.load_from_checkpoint(\n",
    "    \"../Topic-Restricted/lightning_logs/version_17/checkpoints/epoch=3-step=1319.ckpt\"\n",
    ")\n",
    "clf.eval()\n",
    "tokenizer = AutoTokenizer.from_pretrained(clf.model_type)\n",
    "max_len = clf.hparams.max_len\n",
    "max_posts = 16\n",
    "clf.cuda()\n",
    "None"
   ]
  },
  {
   "cell_type": "code",
   "execution_count": null,
   "metadata": {},
   "outputs": [],
   "source": [
    "input_dir = \"./processed/depress_sim16/test\"\n",
    "Y_preds = []\n",
    "Y_test = []\n",
    "for fname in tqdm(os.listdir(input_dir)):\n",
    "    posts = open(os.path.join(input_dir, fname), encoding=\"utf-8\").read().strip().split(\"\\n\")\n",
    "    label = float(fname[-5])\n",
    "    proba, attn_score = infer_texts(posts)\n",
    "    Y_test.append(label)\n",
    "    Y_preds.append(float(proba >= 0.5))\n",
    "Y_preds = np.array(Y_preds)\n",
    "Y_test = np.array(Y_test)\n",
    "acc = accuracy_score(Y_test, Y_preds)\n",
    "p = precision_score(Y_test, Y_preds)\n",
    "r = recall_score(Y_test, Y_preds)\n",
    "f1 = f1_score(Y_test, Y_preds)\n",
    "print(f\"Acc: {acc:.5f}, P: {p:.5f}, R: {r:.5f}, F: {f1:.5f}\")"
   ]
  },
  {
   "cell_type": "markdown",
   "metadata": {},
   "source": [
    "depress 64"
   ]
  },
  {
   "cell_type": "code",
   "execution_count": null,
   "metadata": {},
   "outputs": [],
   "source": [
    "clf = HierClassifier.load_from_checkpoint(\n",
    "    \"../Topic-Restricted/lightning_logs/version_15/checkpoints/epoch=3-step=1319.ckpt\"\n",
    ")\n",
    "clf.eval()\n",
    "tokenizer = AutoTokenizer.from_pretrained(clf.model_type)\n",
    "max_len = clf.hparams.max_len\n",
    "max_posts = 16\n",
    "clf.cuda()\n",
    "None"
   ]
  },
  {
   "cell_type": "code",
   "execution_count": null,
   "metadata": {},
   "outputs": [],
   "source": [
    "input_dir = \"./processed/depress_sim16/test\"\n",
    "Y_preds = []\n",
    "Y_test = []\n",
    "for fname in tqdm(os.listdir(input_dir)):\n",
    "    posts = open(os.path.join(input_dir, fname), encoding=\"utf-8\").read().strip().split(\"\\n\")\n",
    "    label = float(fname[-5])\n",
    "    proba, attn_score = infer_texts(posts)\n",
    "    Y_test.append(label)\n",
    "    Y_preds.append(float(proba >= 0.5))\n",
    "Y_preds = np.array(Y_preds)\n",
    "Y_test = np.array(Y_test)\n",
    "acc = accuracy_score(Y_test, Y_preds)\n",
    "p = precision_score(Y_test, Y_preds)\n",
    "r = recall_score(Y_test, Y_preds)\n",
    "f1 = f1_score(Y_test, Y_preds)\n",
    "print(f\"Acc: {acc:.5f}, P: {p:.5f}, R: {r:.5f}, F: {f1:.5f}\")"
   ]
  },
  {
   "cell_type": "code",
   "execution_count": null,
   "metadata": {},
   "outputs": [],
   "source": []
  }
 ],
 "metadata": {
  "interpreter": {
   "hash": "deb5c85a0d181f020663b0781bb785da64b0ac73c1b94407b759932d81dbf297"
  },
  "kernelspec": {
   "display_name": "Python 3.6.10 64-bit ('py36': conda)",
   "name": "python3"
  },
  "language_info": {
   "codemirror_mode": {
    "name": "ipython",
    "version": 3
   },
   "file_extension": ".py",
   "mimetype": "text/x-python",
   "name": "python",
   "nbconvert_exporter": "python",
   "pygments_lexer": "ipython3",
   "version": "3.6.10"
  },
  "orig_nbformat": 4
 },
 "nbformat": 4,
 "nbformat_minor": 2
}
